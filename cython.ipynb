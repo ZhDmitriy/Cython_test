{
  "nbformat": 4,
  "nbformat_minor": 0,
  "metadata": {
    "colab": {
      "provenance": []
    },
    "kernelspec": {
      "name": "python3",
      "display_name": "Python 3"
    },
    "language_info": {
      "name": "python"
    }
  },
  "cells": [
    {
      "cell_type": "code",
      "execution_count": 4,
      "metadata": {
        "id": "d-RUYjkA0zyS"
      },
      "outputs": [],
      "source": [
        "%load_ext cython"
      ]
    },
    {
      "cell_type": "code",
      "source": [
        "%%cython\n",
        "\n",
        "def py_sum(n):\n",
        "  \"\"\"Compute the sum\"\"\"\n",
        "  i = 0\n",
        "  the_sum = 0\n",
        "  for i in range(n):\n",
        "    the_sum += i\n",
        "  return the_sum\n",
        "\n",
        "cdef inline int cy_sum(int n):\n",
        "  cdef int i = 0\n",
        "  cdef int the_sum = 0\n",
        "  for i in range(n):\n",
        "    the_sum += i\n",
        "  return the_sum\n",
        "\n",
        "def cy_wrapper(int n):\n",
        "  return cy_sum(n)"
      ],
      "metadata": {
        "id": "_PsUnyum1Acs"
      },
      "execution_count": 34,
      "outputs": []
    },
    {
      "cell_type": "code",
      "source": [
        "%timeit py_sum(10)\n",
        "%timeit cy_wrapper(10)"
      ],
      "metadata": {
        "colab": {
          "base_uri": "https://localhost:8080/"
        },
        "id": "8n_Io1-Q2Aj4",
        "outputId": "65165385-507a-4127-c92a-4be1d5692953"
      },
      "execution_count": 35,
      "outputs": [
        {
          "output_type": "stream",
          "name": "stdout",
          "text": [
            "441 ns ± 134 ns per loop (mean ± std. dev. of 7 runs, 1000000 loops each)\n",
            "46.7 ns ± 6.1 ns per loop (mean ± std. dev. of 7 runs, 10000000 loops each)\n"
          ]
        }
      ]
    }
  ]
}